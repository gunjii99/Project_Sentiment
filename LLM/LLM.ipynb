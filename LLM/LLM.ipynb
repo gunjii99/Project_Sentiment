{
 "cells": [
  {
   "cell_type": "code",
   "execution_count": 1,
   "id": "5c26969e",
   "metadata": {},
   "outputs": [],
   "source": [
    "#%pip install python-decouple"
   ]
  },
  {
   "cell_type": "code",
   "execution_count": null,
   "id": "bc2626d8",
   "metadata": {},
   "outputs": [],
   "source": [
    "#import libraries\n",
    "from decouple import config\n",
    "from ibm_watsonx_ai import APIClient\n",
    "from ibm_watsonx_ai import Credentials\n",
    "from ibm_watsonx_ai.foundation_models import ModelInference\n",
    "from ibm_watsonx_ai.foundation_models.prompts import PromptTemplate, PromptTemplateManager\n",
    "from ibm_watsonx_ai.foundation_models.utils.enums import ModelTypes\n",
    "from ibm_watsonx_ai.foundation_models.schema import TextGenParameters\n",
    "import pandas as pd\n",
    "from sklearn.metrics import classification_report \n",
    "import import_ipynb\n",
    "import sys\n",
    "sys.path.append('../')\n",
    "from Preprocessing import Train_Test_split as ts"
   ]
  },
  {
   "cell_type": "code",
   "execution_count": 2,
   "id": "3f836acb",
   "metadata": {},
   "outputs": [],
   "source": [
    "#get the API key and project key\n",
    "WX_API_KEY = config('WX_API_KEY')\n",
    "PROJECT_ID = \"f79c2d38-7ee2-4de6-931a-dad71b72d34f\""
   ]
  },
  {
   "cell_type": "code",
   "execution_count": 3,
   "id": "57e0b323",
   "metadata": {},
   "outputs": [],
   "source": [
    "credentials = Credentials(\n",
    "    url = \"https://us-south.ml.cloud.ibm.com\",\n",
    "    api_key = WX_API_KEY\n",
    ")\n",
    "\n",
    "client = APIClient(\n",
    "    credentials=credentials, \n",
    "    project_id=PROJECT_ID\n",
    ")"
   ]
  },
  {
   "cell_type": "code",
   "execution_count": null,
   "id": "4edf3401",
   "metadata": {},
   "outputs": [],
   "source": [
    "PARAMS = TextGenParameters(\n",
    "    temperature=0.2,      # Higher temperature means more randomness\n",
    "    max_new_tokens=3, # Maximum number of tokens to generate\n",
    "    min_new_tokens=1, # Minimum number of tokens to generate\n",
    ")\n",
    "\n",
    "model = ModelInference(\n",
    "    api_client=client,\n",
    "    model_id=\"mistralai/mistral-small-3-1-24b-instruct-2503\",\n",
    "    params=PARAMS\n",
    ")\n",
    "TextGenParameters.show()"
   ]
  },
  {
   "cell_type": "code",
   "execution_count": null,
   "id": "a05ae370",
   "metadata": {},
   "outputs": [],
   "source": [
    "#This is partly generated using Copilot suggestions\n",
    "\n",
    "def sentiment_prompt(text):\n",
    "    prompt = \"\"\" \n",
    "    Return only a number based on the sentiment for the text. Do not give an explanation. Your response should only be a single character:\n",
    "    1 for Negative\n",
    "    2 for Neural\n",
    "    3 for Positive.\n",
    "\n",
    "    text: {}\n",
    "\n",
    "    \"\"\"\n",
    "    return prompt.format(text).replace('\\n', '')"
   ]
  },
  {
   "cell_type": "code",
   "execution_count": null,
   "id": "74737b0f",
   "metadata": {},
   "outputs": [],
   "source": [
    "#This is also generated using Copilot suggestions\n",
    "\n",
    "def get_sentiment_llm(review):\n",
    "    prompt = sentiment_prompt(review)\n",
    "    response = model.generate_text(prompt)\n",
    "    return response"
   ]
  },
  {
   "cell_type": "code",
   "execution_count": null,
   "id": "aa561f1b",
   "metadata": {},
   "outputs": [
    {
     "data": {
      "text/html": [
       "<div>\n",
       "<style scoped>\n",
       "    .dataframe tbody tr th:only-of-type {\n",
       "        vertical-align: middle;\n",
       "    }\n",
       "\n",
       "    .dataframe tbody tr th {\n",
       "        vertical-align: top;\n",
       "    }\n",
       "\n",
       "    .dataframe thead th {\n",
       "        text-align: right;\n",
       "    }\n",
       "</style>\n",
       "<table border=\"1\" class=\"dataframe\">\n",
       "  <thead>\n",
       "    <tr style=\"text-align: right;\">\n",
       "      <th></th>\n",
       "      <th>business_id</th>\n",
       "      <th>text</th>\n",
       "    </tr>\n",
       "  </thead>\n",
       "  <tbody>\n",
       "    <tr>\n",
       "      <th>31</th>\n",
       "      <td>aJvxWyQIG5OLfBw3qAe8xA</td>\n",
       "      <td>Ordered Caramel frappe at Drive thru, BIG MIST...</td>\n",
       "    </tr>\n",
       "    <tr>\n",
       "      <th>46</th>\n",
       "      <td>MjZQqZAmJeMco_Vq-Y9h-g</td>\n",
       "      <td>Drum-roll please! Review #100 coming right up!...</td>\n",
       "    </tr>\n",
       "    <tr>\n",
       "      <th>54</th>\n",
       "      <td>u7MJKcNdZXYyTeb67vD5jw</td>\n",
       "      <td>We stopped here for my Chai and Hubby's coffee...</td>\n",
       "    </tr>\n",
       "    <tr>\n",
       "      <th>89</th>\n",
       "      <td>saJFbz12EnzanelpD8_xXQ</td>\n",
       "      <td>There's been three times that I've ordered a g...</td>\n",
       "    </tr>\n",
       "    <tr>\n",
       "      <th>104</th>\n",
       "      <td>KiE0h68HGOO7ZXAqkMBdiw</td>\n",
       "      <td>I went in when they had 4 people working, wait...</td>\n",
       "    </tr>\n",
       "    <tr>\n",
       "      <th>...</th>\n",
       "      <td>...</td>\n",
       "      <td>...</td>\n",
       "    </tr>\n",
       "    <tr>\n",
       "      <th>586567</th>\n",
       "      <td>-85kJMtb9wqNWDT8yLbitw</td>\n",
       "      <td>Fair service-  messed up my drink cuppa times....</td>\n",
       "    </tr>\n",
       "    <tr>\n",
       "      <th>586568</th>\n",
       "      <td>Ddg-J_j0YFErk7wpMtH_0A</td>\n",
       "      <td>On my way out of Reno last week I noted a new ...</td>\n",
       "    </tr>\n",
       "    <tr>\n",
       "      <th>586638</th>\n",
       "      <td>2rmpfdyV2POqpXtmPHO_IQ</td>\n",
       "      <td>always closing drive thru. i've driven here so...</td>\n",
       "    </tr>\n",
       "    <tr>\n",
       "      <th>586646</th>\n",
       "      <td>GxuxCctcz3Hyk0wnuly7vQ</td>\n",
       "      <td>This is now one of two Starbucks in the shoppi...</td>\n",
       "    </tr>\n",
       "    <tr>\n",
       "      <th>586656</th>\n",
       "      <td>IkjBNJvMZhea1c3j2H2Ahw</td>\n",
       "      <td>Besides it being super busy often, usually, I ...</td>\n",
       "    </tr>\n",
       "  </tbody>\n",
       "</table>\n",
       "<p>21575 rows × 2 columns</p>\n",
       "</div>"
      ],
      "text/plain": [
       "                   business_id  \\\n",
       "31      aJvxWyQIG5OLfBw3qAe8xA   \n",
       "46      MjZQqZAmJeMco_Vq-Y9h-g   \n",
       "54      u7MJKcNdZXYyTeb67vD5jw   \n",
       "89      saJFbz12EnzanelpD8_xXQ   \n",
       "104     KiE0h68HGOO7ZXAqkMBdiw   \n",
       "...                        ...   \n",
       "586567  -85kJMtb9wqNWDT8yLbitw   \n",
       "586568  Ddg-J_j0YFErk7wpMtH_0A   \n",
       "586638  2rmpfdyV2POqpXtmPHO_IQ   \n",
       "586646  GxuxCctcz3Hyk0wnuly7vQ   \n",
       "586656  IkjBNJvMZhea1c3j2H2Ahw   \n",
       "\n",
       "                                                     text  \n",
       "31      Ordered Caramel frappe at Drive thru, BIG MIST...  \n",
       "46      Drum-roll please! Review #100 coming right up!...  \n",
       "54      We stopped here for my Chai and Hubby's coffee...  \n",
       "89      There's been three times that I've ordered a g...  \n",
       "104     I went in when they had 4 people working, wait...  \n",
       "...                                                   ...  \n",
       "586567  Fair service-  messed up my drink cuppa times....  \n",
       "586568  On my way out of Reno last week I noted a new ...  \n",
       "586638  always closing drive thru. i've driven here so...  \n",
       "586646  This is now one of two Starbucks in the shoppi...  \n",
       "586656  Besides it being super busy often, usually, I ...  \n",
       "\n",
       "[21575 rows x 2 columns]"
      ]
     },
     "execution_count": 11,
     "metadata": {},
     "output_type": "execute_result"
    }
   ],
   "source": [
    "df = ts.BI_df[[\"business_id\", \"text\"]]\n",
    "df"
   ]
  },
  {
   "cell_type": "code",
   "execution_count": 13,
   "id": "94635d0a",
   "metadata": {},
   "outputs": [],
   "source": [
    "df1 = df.iloc[0:5000].copy()\n",
    "df1[\"llm_sentiment\"] = df1[\"text\"].apply(get_sentiment_llm)"
   ]
  },
  {
   "cell_type": "code",
   "execution_count": 14,
   "id": "95fc2077",
   "metadata": {},
   "outputs": [],
   "source": [
    "df2 = df.iloc[5000:10000].copy()\n",
    "df2[\"llm_sentiment\"] = df2[\"text\"].apply(get_sentiment_llm)"
   ]
  },
  {
   "cell_type": "code",
   "execution_count": 15,
   "id": "7272fed0",
   "metadata": {},
   "outputs": [],
   "source": [
    "df3 = df.iloc[10000:15000].copy()\n",
    "df3[\"llm_sentiment\"] = df3[\"text\"].apply(get_sentiment_llm)"
   ]
  },
  {
   "cell_type": "code",
   "execution_count": 16,
   "id": "32cfbfbb",
   "metadata": {},
   "outputs": [],
   "source": [
    "df4 = df.iloc[15000:].copy()\n",
    "df4[\"llm_sentiment\"] = df4[\"text\"].apply(get_sentiment_llm)"
   ]
  },
  {
   "cell_type": "code",
   "execution_count": 17,
   "id": "e04623ee",
   "metadata": {},
   "outputs": [],
   "source": [
    "final_df = pd.concat([df1,df2,df3,df4])"
   ]
  },
  {
   "cell_type": "code",
   "execution_count": 18,
   "id": "d34f650f",
   "metadata": {},
   "outputs": [
    {
     "name": "stdout",
     "output_type": "stream",
     "text": [
      "<class 'pandas.core.frame.DataFrame'>\n",
      "Index: 21575 entries, 31 to 586656\n",
      "Data columns (total 3 columns):\n",
      " #   Column         Non-Null Count  Dtype \n",
      "---  ------         --------------  ----- \n",
      " 0   business_id    21575 non-null  object\n",
      " 1   text           21575 non-null  object\n",
      " 2   llm_sentiment  21575 non-null  object\n",
      "dtypes: object(3)\n",
      "memory usage: 674.2+ KB\n"
     ]
    }
   ],
   "source": [
    "final_df.info()"
   ]
  },
  {
   "cell_type": "code",
   "execution_count": 19,
   "id": "f0ead5a1",
   "metadata": {},
   "outputs": [
    {
     "data": {
      "text/html": [
       "<div>\n",
       "<style scoped>\n",
       "    .dataframe tbody tr th:only-of-type {\n",
       "        vertical-align: middle;\n",
       "    }\n",
       "\n",
       "    .dataframe tbody tr th {\n",
       "        vertical-align: top;\n",
       "    }\n",
       "\n",
       "    .dataframe thead th {\n",
       "        text-align: right;\n",
       "    }\n",
       "</style>\n",
       "<table border=\"1\" class=\"dataframe\">\n",
       "  <thead>\n",
       "    <tr style=\"text-align: right;\">\n",
       "      <th></th>\n",
       "      <th>business_id</th>\n",
       "      <th>text</th>\n",
       "      <th>llm_sentiment</th>\n",
       "    </tr>\n",
       "  </thead>\n",
       "  <tbody>\n",
       "    <tr>\n",
       "      <th>31</th>\n",
       "      <td>aJvxWyQIG5OLfBw3qAe8xA</td>\n",
       "      <td>Ordered Caramel frappe at Drive thru, BIG MIST...</td>\n",
       "      <td>1</td>\n",
       "    </tr>\n",
       "    <tr>\n",
       "      <th>46</th>\n",
       "      <td>MjZQqZAmJeMco_Vq-Y9h-g</td>\n",
       "      <td>Drum-roll please! Review #100 coming right up!...</td>\n",
       "      <td>3</td>\n",
       "    </tr>\n",
       "    <tr>\n",
       "      <th>54</th>\n",
       "      <td>u7MJKcNdZXYyTeb67vD5jw</td>\n",
       "      <td>We stopped here for my Chai and Hubby's coffee...</td>\n",
       "      <td>3</td>\n",
       "    </tr>\n",
       "    <tr>\n",
       "      <th>89</th>\n",
       "      <td>saJFbz12EnzanelpD8_xXQ</td>\n",
       "      <td>There's been three times that I've ordered a g...</td>\n",
       "      <td>1</td>\n",
       "    </tr>\n",
       "    <tr>\n",
       "      <th>104</th>\n",
       "      <td>KiE0h68HGOO7ZXAqkMBdiw</td>\n",
       "      <td>I went in when they had 4 people working, wait...</td>\n",
       "      <td>1</td>\n",
       "    </tr>\n",
       "    <tr>\n",
       "      <th>135</th>\n",
       "      <td>saJFbz12EnzanelpD8_xXQ</td>\n",
       "      <td>Most of the time I go through the drive thru h...</td>\n",
       "      <td>3</td>\n",
       "    </tr>\n",
       "    <tr>\n",
       "      <th>165</th>\n",
       "      <td>BauybYsfqd0y6KDrJ6ZxjQ</td>\n",
       "      <td>i dont know what has happened to the in store ...</td>\n",
       "      <td>1</td>\n",
       "    </tr>\n",
       "    <tr>\n",
       "      <th>169</th>\n",
       "      <td>BauybYsfqd0y6KDrJ6ZxjQ</td>\n",
       "      <td>Nothing makes my busy day easy like my iced co...</td>\n",
       "      <td>1</td>\n",
       "    </tr>\n",
       "    <tr>\n",
       "      <th>205</th>\n",
       "      <td>RCy4M2ND4YK0uRbodV_v8g</td>\n",
       "      <td>Starbucks...so aren't they all just clones?  a...</td>\n",
       "      <td>1</td>\n",
       "    </tr>\n",
       "    <tr>\n",
       "      <th>219</th>\n",
       "      <td>aJvxWyQIG5OLfBw3qAe8xA</td>\n",
       "      <td>Much better than the one on Bell Rd. near Red ...</td>\n",
       "      <td>3</td>\n",
       "    </tr>\n",
       "  </tbody>\n",
       "</table>\n",
       "</div>"
      ],
      "text/plain": [
       "                business_id  \\\n",
       "31   aJvxWyQIG5OLfBw3qAe8xA   \n",
       "46   MjZQqZAmJeMco_Vq-Y9h-g   \n",
       "54   u7MJKcNdZXYyTeb67vD5jw   \n",
       "89   saJFbz12EnzanelpD8_xXQ   \n",
       "104  KiE0h68HGOO7ZXAqkMBdiw   \n",
       "135  saJFbz12EnzanelpD8_xXQ   \n",
       "165  BauybYsfqd0y6KDrJ6ZxjQ   \n",
       "169  BauybYsfqd0y6KDrJ6ZxjQ   \n",
       "205  RCy4M2ND4YK0uRbodV_v8g   \n",
       "219  aJvxWyQIG5OLfBw3qAe8xA   \n",
       "\n",
       "                                                  text llm_sentiment  \n",
       "31   Ordered Caramel frappe at Drive thru, BIG MIST...             1  \n",
       "46   Drum-roll please! Review #100 coming right up!...             3  \n",
       "54   We stopped here for my Chai and Hubby's coffee...             3  \n",
       "89   There's been three times that I've ordered a g...             1  \n",
       "104  I went in when they had 4 people working, wait...             1  \n",
       "135  Most of the time I go through the drive thru h...             3  \n",
       "165  i dont know what has happened to the in store ...             1  \n",
       "169  Nothing makes my busy day easy like my iced co...             1  \n",
       "205  Starbucks...so aren't they all just clones?  a...             1  \n",
       "219  Much better than the one on Bell Rd. near Red ...             3  "
      ]
     },
     "execution_count": 19,
     "metadata": {},
     "output_type": "execute_result"
    }
   ],
   "source": [
    "final_df.head(10)"
   ]
  },
  {
   "cell_type": "code",
   "execution_count": 21,
   "id": "80105426",
   "metadata": {},
   "outputs": [
    {
     "name": "stdout",
     "output_type": "stream",
     "text": [
      "Collecting pyarrow\n",
      "  Downloading pyarrow-20.0.0-cp312-cp312-win_amd64.whl.metadata (3.4 kB)\n",
      "Downloading pyarrow-20.0.0-cp312-cp312-win_amd64.whl (25.7 MB)\n",
      "   ---------------------------------------- 0.0/25.7 MB ? eta -:--:--\n",
      "   ------------- -------------------------- 8.9/25.7 MB 50.3 MB/s eta 0:00:01\n",
      "   ------------------------- -------------- 16.3/25.7 MB 40.9 MB/s eta 0:00:01\n",
      "   ----------------------------------- ---- 22.8/25.7 MB 38.0 MB/s eta 0:00:01\n",
      "   ---------------------------------------- 25.7/25.7 MB 33.9 MB/s eta 0:00:00\n",
      "Installing collected packages: pyarrow\n",
      "Successfully installed pyarrow-20.0.0\n",
      "Note: you may need to restart the kernel to use updated packages.\n"
     ]
    },
    {
     "name": "stderr",
     "output_type": "stream",
     "text": [
      "\n",
      "[notice] A new release of pip is available: 24.2 -> 25.1.1\n",
      "[notice] To update, run: python.exe -m pip install --upgrade pip\n"
     ]
    }
   ],
   "source": [
    "%pip install pyarrow"
   ]
  },
  {
   "cell_type": "code",
   "execution_count": 22,
   "id": "6b1313b3",
   "metadata": {},
   "outputs": [],
   "source": [
    "final_df.to_parquet('llm_sentiment.parquet')"
   ]
  },
  {
   "cell_type": "code",
   "execution_count": 25,
   "id": "9d1988db",
   "metadata": {},
   "outputs": [],
   "source": [
    "final_df.to_json(\"llm_sentiment.json\", orient=\"records\", lines=True)"
   ]
  }
 ],
 "metadata": {
  "kernelspec": {
   "display_name": "base",
   "language": "python",
   "name": "python3"
  },
  "language_info": {
   "codemirror_mode": {
    "name": "ipython",
    "version": 3
   },
   "file_extension": ".py",
   "mimetype": "text/x-python",
   "name": "python",
   "nbconvert_exporter": "python",
   "pygments_lexer": "ipython3",
   "version": "3.12.7"
  }
 },
 "nbformat": 4,
 "nbformat_minor": 5
}
