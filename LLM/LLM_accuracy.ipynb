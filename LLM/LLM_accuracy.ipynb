{
 "cells": [
  {
   "cell_type": "code",
   "execution_count": 1,
   "id": "c4eed0ef",
   "metadata": {},
   "outputs": [
    {
     "name": "stdout",
     "output_type": "stream",
     "text": [
      "Training data shape: (452068, 3)\n",
      "Test data shape: (113018, 3)\n",
      "Training samples: 361654, Validation samples: 90414, Test samples: 113018\n"
     ]
    }
   ],
   "source": [
    "#split the date part to year and month\n",
    "import nbimporter\n",
    "import sys\n",
    "import import_ipynb\n",
    "sys.path.append('../')\n",
    "from Preprocessing import Train_Test_split as ts\n",
    "import pandas as pd\n",
    "import json\n",
    "import matplotlib.pyplot as plt\n",
    "from sklearn.metrics import classification_report\n",
    "import numpy as np\n",
    "from sklearn.metrics import confusion_matrix\n",
    "from sklearn.metrics import ConfusionMatrixDisplay"
   ]
  },
  {
   "cell_type": "code",
   "execution_count": 2,
   "id": "16d9d403",
   "metadata": {},
   "outputs": [],
   "source": [
    "LLM_predicts = pd.read_json('LLM\\\\llm_sentiment.json', lines=True)"
   ]
  },
  {
   "cell_type": "code",
   "execution_count": 3,
   "id": "fd5db860",
   "metadata": {},
   "outputs": [
    {
     "data": {
      "text/plain": [
       "business_id                                 agzEfydzvZWlbzpcMxLPBg\n",
       "text             This is the worst Starbucks location I have ev...\n",
       "city                                                          Reno\n",
       "date                                           2017-07-31 03:53:37\n",
       "stars_3_scale                                                    1\n",
       "address                          6890 South McCarran Blvd, Ste 100\n",
       "llm_sentiment                                          I have been\n",
       "Name: 77, dtype: object"
      ]
     },
     "execution_count": 3,
     "metadata": {},
     "output_type": "execute_result"
    }
   ],
   "source": [
    "LLM_predicts.iloc[77]"
   ]
  },
  {
   "cell_type": "code",
   "execution_count": 5,
   "id": "94a23765",
   "metadata": {},
   "outputs": [],
   "source": [
    "#pd.to_numeric(LLM_predicts[\"llm_sentiment\"], errors='coerce')\n",
    "LLM_predicts['llm_sentiment'] = pd.to_numeric(LLM_predicts['llm_sentiment'], errors='coerce')\n",
    "\n"
   ]
  },
  {
   "cell_type": "code",
   "execution_count": 6,
   "id": "57c78283",
   "metadata": {},
   "outputs": [
    {
     "data": {
      "text/plain": [
       "llm_sentiment\n",
       " 1.0    10325\n",
       " 3.0    10011\n",
       " 2.0     1217\n",
       "-1.0        1\n",
       "Name: count, dtype: int64"
      ]
     },
     "execution_count": 6,
     "metadata": {},
     "output_type": "execute_result"
    }
   ],
   "source": [
    "v = LLM_predicts['llm_sentiment'].value_counts()\n",
    "v"
   ]
  },
  {
   "cell_type": "code",
   "execution_count": null,
   "id": "2e58033a",
   "metadata": {},
   "outputs": [
    {
     "ename": "NameError",
     "evalue": "name 'LLM_predicts' is not defined",
     "output_type": "error",
     "traceback": [
      "\u001b[0;31m---------------------------------------------------------------------------\u001b[0m",
      "\u001b[0;31mNameError\u001b[0m                                 Traceback (most recent call last)",
      "Cell \u001b[0;32mIn[1], line 1\u001b[0m\n\u001b[0;32m----> 1\u001b[0m negative_or_na \u001b[38;5;241m=\u001b[39m LLM_predicts[LLM_predicts[\u001b[38;5;124m\"\u001b[39m\u001b[38;5;124mllm_sentiment\u001b[39m\u001b[38;5;124m\"\u001b[39m]\u001b[38;5;241m.\u001b[39misna() \u001b[38;5;241m|\u001b[39m (LLM_predicts[\u001b[38;5;124m\"\u001b[39m\u001b[38;5;124mllm_sentiment\u001b[39m\u001b[38;5;124m\"\u001b[39m] \u001b[38;5;241m<\u001b[39m \u001b[38;5;241m0\u001b[39m)]\n\u001b[1;32m      2\u001b[0m negative_or_na\n",
      "\u001b[0;31mNameError\u001b[0m: name 'LLM_predicts' is not defined"
     ]
    }
   ],
   "source": [
    "negative_or_na = llm_sentiment.jason[llm_sentiment.jason[\"llm_sentiment\"].isna() | (llm_sentiment.json[\"llm_sentiment\"] < 0)]\n",
    "negative_or_na"
   ]
  },
  {
   "cell_type": "code",
   "execution_count": 19,
   "id": "16bdd623",
   "metadata": {},
   "outputs": [
    {
     "data": {
      "text/html": [
       "<div>\n",
       "<style scoped>\n",
       "    .dataframe tbody tr th:only-of-type {\n",
       "        vertical-align: middle;\n",
       "    }\n",
       "\n",
       "    .dataframe tbody tr th {\n",
       "        vertical-align: top;\n",
       "    }\n",
       "\n",
       "    .dataframe thead th {\n",
       "        text-align: right;\n",
       "    }\n",
       "</style>\n",
       "<table border=\"1\" class=\"dataframe\">\n",
       "  <thead>\n",
       "    <tr style=\"text-align: right;\">\n",
       "      <th></th>\n",
       "      <th>business_id</th>\n",
       "      <th>text</th>\n",
       "      <th>city</th>\n",
       "      <th>date</th>\n",
       "      <th>stars_3_scale</th>\n",
       "      <th>address</th>\n",
       "      <th>llm_sentiment</th>\n",
       "    </tr>\n",
       "  </thead>\n",
       "  <tbody>\n",
       "    <tr>\n",
       "      <th>0</th>\n",
       "      <td>aJvxWyQIG5OLfBw3qAe8xA</td>\n",
       "      <td>Ordered Caramel frappe at Drive thru, BIG MIST...</td>\n",
       "      <td>Nashville</td>\n",
       "      <td>2017-12-29 19:38:31</td>\n",
       "      <td>1</td>\n",
       "      <td>2308 Murfreesboro Pike</td>\n",
       "      <td>1.0</td>\n",
       "    </tr>\n",
       "    <tr>\n",
       "      <th>1</th>\n",
       "      <td>MjZQqZAmJeMco_Vq-Y9h-g</td>\n",
       "      <td>Drum-roll please! Review #100 coming right up!...</td>\n",
       "      <td>Carmel</td>\n",
       "      <td>2014-02-05 19:38:24</td>\n",
       "      <td>3</td>\n",
       "      <td>13170 North Hazel Dell Pkwy</td>\n",
       "      <td>3.0</td>\n",
       "    </tr>\n",
       "    <tr>\n",
       "      <th>2</th>\n",
       "      <td>u7MJKcNdZXYyTeb67vD5jw</td>\n",
       "      <td>We stopped here for my Chai and Hubby's coffee...</td>\n",
       "      <td>Mount Laurel</td>\n",
       "      <td>2017-02-09 04:35:39</td>\n",
       "      <td>3</td>\n",
       "      <td>5 Hartford Rd</td>\n",
       "      <td>3.0</td>\n",
       "    </tr>\n",
       "    <tr>\n",
       "      <th>3</th>\n",
       "      <td>saJFbz12EnzanelpD8_xXQ</td>\n",
       "      <td>There's been three times that I've ordered a g...</td>\n",
       "      <td>Riverview</td>\n",
       "      <td>2016-08-25 14:08:18</td>\n",
       "      <td>1</td>\n",
       "      <td>10716 Big Bend Rd</td>\n",
       "      <td>1.0</td>\n",
       "    </tr>\n",
       "    <tr>\n",
       "      <th>4</th>\n",
       "      <td>KiE0h68HGOO7ZXAqkMBdiw</td>\n",
       "      <td>I went in when they had 4 people working, wait...</td>\n",
       "      <td>Santa Barbara</td>\n",
       "      <td>2016-01-30 01:10:42</td>\n",
       "      <td>1</td>\n",
       "      <td>1015 De La Vina St</td>\n",
       "      <td>1.0</td>\n",
       "    </tr>\n",
       "    <tr>\n",
       "      <th>...</th>\n",
       "      <td>...</td>\n",
       "      <td>...</td>\n",
       "      <td>...</td>\n",
       "      <td>...</td>\n",
       "      <td>...</td>\n",
       "      <td>...</td>\n",
       "      <td>...</td>\n",
       "    </tr>\n",
       "    <tr>\n",
       "      <th>21570</th>\n",
       "      <td>-85kJMtb9wqNWDT8yLbitw</td>\n",
       "      <td>Fair service-  messed up my drink cuppa times....</td>\n",
       "      <td>Franklin</td>\n",
       "      <td>2021-12-13 22:08:14</td>\n",
       "      <td>2</td>\n",
       "      <td>438 Main St, Space 168, Space 168</td>\n",
       "      <td>1.0</td>\n",
       "    </tr>\n",
       "    <tr>\n",
       "      <th>21571</th>\n",
       "      <td>Ddg-J_j0YFErk7wpMtH_0A</td>\n",
       "      <td>On my way out of Reno last week I noted a new ...</td>\n",
       "      <td>Reno</td>\n",
       "      <td>2021-12-28 19:26:37</td>\n",
       "      <td>3</td>\n",
       "      <td>986 Ambassador Dr</td>\n",
       "      <td>3.0</td>\n",
       "    </tr>\n",
       "    <tr>\n",
       "      <th>21572</th>\n",
       "      <td>2rmpfdyV2POqpXtmPHO_IQ</td>\n",
       "      <td>always closing drive thru. i've driven here so...</td>\n",
       "      <td>Tucson</td>\n",
       "      <td>2021-12-28 18:12:04</td>\n",
       "      <td>1</td>\n",
       "      <td>6363 N La Cholla</td>\n",
       "      <td>1.0</td>\n",
       "    </tr>\n",
       "    <tr>\n",
       "      <th>21573</th>\n",
       "      <td>GxuxCctcz3Hyk0wnuly7vQ</td>\n",
       "      <td>This is now one of two Starbucks in the shoppi...</td>\n",
       "      <td>Tucson</td>\n",
       "      <td>2017-01-21 00:19:27</td>\n",
       "      <td>3</td>\n",
       "      <td>4811 E Grant</td>\n",
       "      <td>3.0</td>\n",
       "    </tr>\n",
       "    <tr>\n",
       "      <th>21574</th>\n",
       "      <td>IkjBNJvMZhea1c3j2H2Ahw</td>\n",
       "      <td>Besides it being super busy often, usually, I ...</td>\n",
       "      <td>St. Louis</td>\n",
       "      <td>2022-01-10 12:51:07</td>\n",
       "      <td>2</td>\n",
       "      <td>2350 South Grand Ave</td>\n",
       "      <td>2.0</td>\n",
       "    </tr>\n",
       "  </tbody>\n",
       "</table>\n",
       "<p>21553 rows × 7 columns</p>\n",
       "</div>"
      ],
      "text/plain": [
       "                  business_id  \\\n",
       "0      aJvxWyQIG5OLfBw3qAe8xA   \n",
       "1      MjZQqZAmJeMco_Vq-Y9h-g   \n",
       "2      u7MJKcNdZXYyTeb67vD5jw   \n",
       "3      saJFbz12EnzanelpD8_xXQ   \n",
       "4      KiE0h68HGOO7ZXAqkMBdiw   \n",
       "...                       ...   \n",
       "21570  -85kJMtb9wqNWDT8yLbitw   \n",
       "21571  Ddg-J_j0YFErk7wpMtH_0A   \n",
       "21572  2rmpfdyV2POqpXtmPHO_IQ   \n",
       "21573  GxuxCctcz3Hyk0wnuly7vQ   \n",
       "21574  IkjBNJvMZhea1c3j2H2Ahw   \n",
       "\n",
       "                                                    text           city  \\\n",
       "0      Ordered Caramel frappe at Drive thru, BIG MIST...      Nashville   \n",
       "1      Drum-roll please! Review #100 coming right up!...         Carmel   \n",
       "2      We stopped here for my Chai and Hubby's coffee...   Mount Laurel   \n",
       "3      There's been three times that I've ordered a g...      Riverview   \n",
       "4      I went in when they had 4 people working, wait...  Santa Barbara   \n",
       "...                                                  ...            ...   \n",
       "21570  Fair service-  messed up my drink cuppa times....       Franklin   \n",
       "21571  On my way out of Reno last week I noted a new ...           Reno   \n",
       "21572  always closing drive thru. i've driven here so...         Tucson   \n",
       "21573  This is now one of two Starbucks in the shoppi...         Tucson   \n",
       "21574  Besides it being super busy often, usually, I ...      St. Louis   \n",
       "\n",
       "                     date  stars_3_scale                            address  \\\n",
       "0     2017-12-29 19:38:31              1             2308 Murfreesboro Pike   \n",
       "1     2014-02-05 19:38:24              3        13170 North Hazel Dell Pkwy   \n",
       "2     2017-02-09 04:35:39              3                      5 Hartford Rd   \n",
       "3     2016-08-25 14:08:18              1                  10716 Big Bend Rd   \n",
       "4     2016-01-30 01:10:42              1                 1015 De La Vina St   \n",
       "...                   ...            ...                                ...   \n",
       "21570 2021-12-13 22:08:14              2  438 Main St, Space 168, Space 168   \n",
       "21571 2021-12-28 19:26:37              3                  986 Ambassador Dr   \n",
       "21572 2021-12-28 18:12:04              1                   6363 N La Cholla   \n",
       "21573 2017-01-21 00:19:27              3                       4811 E Grant   \n",
       "21574 2022-01-10 12:51:07              2               2350 South Grand Ave   \n",
       "\n",
       "       llm_sentiment  \n",
       "0                1.0  \n",
       "1                3.0  \n",
       "2                3.0  \n",
       "3                1.0  \n",
       "4                1.0  \n",
       "...              ...  \n",
       "21570            1.0  \n",
       "21571            3.0  \n",
       "21572            1.0  \n",
       "21573            3.0  \n",
       "21574            2.0  \n",
       "\n",
       "[21553 rows x 7 columns]"
      ]
     },
     "execution_count": 19,
     "metadata": {},
     "output_type": "execute_result"
    }
   ],
   "source": [
    "LLM_predicts = LLM_predicts.dropna(subset=[\"llm_sentiment\"])\n",
    "LLM_predicts = LLM_predicts[LLM_predicts[\"llm_sentiment\"] >= 0]\n",
    "LLM_predicts"
   ]
  },
  {
   "cell_type": "code",
   "execution_count": 24,
   "id": "dabd0726",
   "metadata": {},
   "outputs": [
    {
     "data": {
      "text/html": [
       "<div>\n",
       "<style scoped>\n",
       "    .dataframe tbody tr th:only-of-type {\n",
       "        vertical-align: middle;\n",
       "    }\n",
       "\n",
       "    .dataframe tbody tr th {\n",
       "        vertical-align: top;\n",
       "    }\n",
       "\n",
       "    .dataframe thead th {\n",
       "        text-align: right;\n",
       "    }\n",
       "</style>\n",
       "<table border=\"1\" class=\"dataframe\">\n",
       "  <thead>\n",
       "    <tr style=\"text-align: right;\">\n",
       "      <th></th>\n",
       "      <th>business_id</th>\n",
       "      <th>text</th>\n",
       "      <th>city</th>\n",
       "      <th>date</th>\n",
       "      <th>stars_3_scale</th>\n",
       "      <th>address</th>\n",
       "      <th>llm_sentiment</th>\n",
       "      <th>roberta_score</th>\n",
       "    </tr>\n",
       "  </thead>\n",
       "  <tbody>\n",
       "    <tr>\n",
       "      <th>0</th>\n",
       "      <td>aJvxWyQIG5OLfBw3qAe8xA</td>\n",
       "      <td>Ordered Caramel frappe at Drive thru, BIG MIST...</td>\n",
       "      <td>Nashville</td>\n",
       "      <td>2017-12-29 19:38:31</td>\n",
       "      <td>1</td>\n",
       "      <td>2308 Murfreesboro Pike</td>\n",
       "      <td>1.0</td>\n",
       "      <td>2</td>\n",
       "    </tr>\n",
       "    <tr>\n",
       "      <th>1</th>\n",
       "      <td>MjZQqZAmJeMco_Vq-Y9h-g</td>\n",
       "      <td>Drum-roll please! Review #100 coming right up!...</td>\n",
       "      <td>Carmel</td>\n",
       "      <td>2014-02-05 19:38:24</td>\n",
       "      <td>3</td>\n",
       "      <td>13170 North Hazel Dell Pkwy</td>\n",
       "      <td>3.0</td>\n",
       "      <td>3</td>\n",
       "    </tr>\n",
       "    <tr>\n",
       "      <th>2</th>\n",
       "      <td>u7MJKcNdZXYyTeb67vD5jw</td>\n",
       "      <td>We stopped here for my Chai and Hubby's coffee...</td>\n",
       "      <td>Mount Laurel</td>\n",
       "      <td>2017-02-09 04:35:39</td>\n",
       "      <td>3</td>\n",
       "      <td>5 Hartford Rd</td>\n",
       "      <td>3.0</td>\n",
       "      <td>3</td>\n",
       "    </tr>\n",
       "    <tr>\n",
       "      <th>3</th>\n",
       "      <td>saJFbz12EnzanelpD8_xXQ</td>\n",
       "      <td>There's been three times that I've ordered a g...</td>\n",
       "      <td>Riverview</td>\n",
       "      <td>2016-08-25 14:08:18</td>\n",
       "      <td>1</td>\n",
       "      <td>10716 Big Bend Rd</td>\n",
       "      <td>1.0</td>\n",
       "      <td>2</td>\n",
       "    </tr>\n",
       "    <tr>\n",
       "      <th>4</th>\n",
       "      <td>KiE0h68HGOO7ZXAqkMBdiw</td>\n",
       "      <td>I went in when they had 4 people working, wait...</td>\n",
       "      <td>Santa Barbara</td>\n",
       "      <td>2016-01-30 01:10:42</td>\n",
       "      <td>1</td>\n",
       "      <td>1015 De La Vina St</td>\n",
       "      <td>1.0</td>\n",
       "      <td>1</td>\n",
       "    </tr>\n",
       "    <tr>\n",
       "      <th>...</th>\n",
       "      <td>...</td>\n",
       "      <td>...</td>\n",
       "      <td>...</td>\n",
       "      <td>...</td>\n",
       "      <td>...</td>\n",
       "      <td>...</td>\n",
       "      <td>...</td>\n",
       "      <td>...</td>\n",
       "    </tr>\n",
       "    <tr>\n",
       "      <th>21548</th>\n",
       "      <td>-85kJMtb9wqNWDT8yLbitw</td>\n",
       "      <td>Fair service-  messed up my drink cuppa times....</td>\n",
       "      <td>Franklin</td>\n",
       "      <td>2021-12-13 22:08:14</td>\n",
       "      <td>2</td>\n",
       "      <td>438 Main St, Space 168, Space 168</td>\n",
       "      <td>1.0</td>\n",
       "      <td>1</td>\n",
       "    </tr>\n",
       "    <tr>\n",
       "      <th>21549</th>\n",
       "      <td>Ddg-J_j0YFErk7wpMtH_0A</td>\n",
       "      <td>On my way out of Reno last week I noted a new ...</td>\n",
       "      <td>Reno</td>\n",
       "      <td>2021-12-28 19:26:37</td>\n",
       "      <td>3</td>\n",
       "      <td>986 Ambassador Dr</td>\n",
       "      <td>3.0</td>\n",
       "      <td>3</td>\n",
       "    </tr>\n",
       "    <tr>\n",
       "      <th>21550</th>\n",
       "      <td>2rmpfdyV2POqpXtmPHO_IQ</td>\n",
       "      <td>always closing drive thru. i've driven here so...</td>\n",
       "      <td>Tucson</td>\n",
       "      <td>2021-12-28 18:12:04</td>\n",
       "      <td>1</td>\n",
       "      <td>6363 N La Cholla</td>\n",
       "      <td>1.0</td>\n",
       "      <td>1</td>\n",
       "    </tr>\n",
       "    <tr>\n",
       "      <th>21551</th>\n",
       "      <td>GxuxCctcz3Hyk0wnuly7vQ</td>\n",
       "      <td>This is now one of two Starbucks in the shoppi...</td>\n",
       "      <td>Tucson</td>\n",
       "      <td>2017-01-21 00:19:27</td>\n",
       "      <td>3</td>\n",
       "      <td>4811 E Grant</td>\n",
       "      <td>3.0</td>\n",
       "      <td>3</td>\n",
       "    </tr>\n",
       "    <tr>\n",
       "      <th>21552</th>\n",
       "      <td>IkjBNJvMZhea1c3j2H2Ahw</td>\n",
       "      <td>Besides it being super busy often, usually, I ...</td>\n",
       "      <td>St. Louis</td>\n",
       "      <td>2022-01-10 12:51:07</td>\n",
       "      <td>2</td>\n",
       "      <td>2350 South Grand Ave</td>\n",
       "      <td>2.0</td>\n",
       "      <td>3</td>\n",
       "    </tr>\n",
       "  </tbody>\n",
       "</table>\n",
       "<p>21553 rows × 8 columns</p>\n",
       "</div>"
      ],
      "text/plain": [
       "                  business_id  \\\n",
       "0      aJvxWyQIG5OLfBw3qAe8xA   \n",
       "1      MjZQqZAmJeMco_Vq-Y9h-g   \n",
       "2      u7MJKcNdZXYyTeb67vD5jw   \n",
       "3      saJFbz12EnzanelpD8_xXQ   \n",
       "4      KiE0h68HGOO7ZXAqkMBdiw   \n",
       "...                       ...   \n",
       "21548  -85kJMtb9wqNWDT8yLbitw   \n",
       "21549  Ddg-J_j0YFErk7wpMtH_0A   \n",
       "21550  2rmpfdyV2POqpXtmPHO_IQ   \n",
       "21551  GxuxCctcz3Hyk0wnuly7vQ   \n",
       "21552  IkjBNJvMZhea1c3j2H2Ahw   \n",
       "\n",
       "                                                    text           city  \\\n",
       "0      Ordered Caramel frappe at Drive thru, BIG MIST...      Nashville   \n",
       "1      Drum-roll please! Review #100 coming right up!...         Carmel   \n",
       "2      We stopped here for my Chai and Hubby's coffee...   Mount Laurel   \n",
       "3      There's been three times that I've ordered a g...      Riverview   \n",
       "4      I went in when they had 4 people working, wait...  Santa Barbara   \n",
       "...                                                  ...            ...   \n",
       "21548  Fair service-  messed up my drink cuppa times....       Franklin   \n",
       "21549  On my way out of Reno last week I noted a new ...           Reno   \n",
       "21550  always closing drive thru. i've driven here so...         Tucson   \n",
       "21551  This is now one of two Starbucks in the shoppi...         Tucson   \n",
       "21552  Besides it being super busy often, usually, I ...      St. Louis   \n",
       "\n",
       "                     date  stars_3_scale                            address  \\\n",
       "0     2017-12-29 19:38:31              1             2308 Murfreesboro Pike   \n",
       "1     2014-02-05 19:38:24              3        13170 North Hazel Dell Pkwy   \n",
       "2     2017-02-09 04:35:39              3                      5 Hartford Rd   \n",
       "3     2016-08-25 14:08:18              1                  10716 Big Bend Rd   \n",
       "4     2016-01-30 01:10:42              1                 1015 De La Vina St   \n",
       "...                   ...            ...                                ...   \n",
       "21548 2021-12-13 22:08:14              2  438 Main St, Space 168, Space 168   \n",
       "21549 2021-12-28 19:26:37              3                  986 Ambassador Dr   \n",
       "21550 2021-12-28 18:12:04              1                   6363 N La Cholla   \n",
       "21551 2017-01-21 00:19:27              3                       4811 E Grant   \n",
       "21552 2022-01-10 12:51:07              2               2350 South Grand Ave   \n",
       "\n",
       "       llm_sentiment  roberta_score  \n",
       "0                1.0              2  \n",
       "1                3.0              3  \n",
       "2                3.0              3  \n",
       "3                1.0              2  \n",
       "4                1.0              1  \n",
       "...              ...            ...  \n",
       "21548            1.0              1  \n",
       "21549            3.0              3  \n",
       "21550            1.0              1  \n",
       "21551            3.0              3  \n",
       "21552            2.0              3  \n",
       "\n",
       "[21553 rows x 8 columns]"
      ]
     },
     "execution_count": 24,
     "metadata": {},
     "output_type": "execute_result"
    }
   ],
   "source": [
    "LLM_predicts_merge_roberta = pd.merge(LLM_predicts, ts.BI_df[[\"roberta_score\", \"date\", \"business_id\"]], on=[\"date\", \"business_id\"], how=\"inner\")\n",
    "LLM_predicts_merge_roberta"
   ]
  },
  {
   "cell_type": "code",
   "execution_count": 25,
   "id": "88345a3b",
   "metadata": {},
   "outputs": [],
   "source": [
    "LLM_predicts_merge_roberta.to_json('LLM_predicts_merge_roberta.json', orient='records', lines=True)"
   ]
  },
  {
   "cell_type": "code",
   "execution_count": 21,
   "id": "7fc84413",
   "metadata": {},
   "outputs": [
    {
     "name": "stdout",
     "output_type": "stream",
     "text": [
      "              precision    recall  f1-score   support\n",
      "\n",
      "        -1.0       0.00      0.00      0.00         0\n",
      "         1.0       0.84      0.97      0.90      8928\n",
      "         2.0       0.16      0.16      0.16      1216\n",
      "         3.0       0.97      0.85      0.91     11410\n",
      "\n",
      "    accuracy                           0.86     21554\n",
      "   macro avg       0.49      0.50      0.49     21554\n",
      "weighted avg       0.87      0.86      0.86     21554\n",
      "\n"
     ]
    },
    {
     "name": "stderr",
     "output_type": "stream",
     "text": [
      "c:\\Users\\gunja\\anaconda3\\Lib\\site-packages\\sklearn\\metrics\\_classification.py:1531: UndefinedMetricWarning: Recall is ill-defined and being set to 0.0 in labels with no true samples. Use `zero_division` parameter to control this behavior.\n",
      "  _warn_prf(average, modifier, f\"{metric.capitalize()} is\", len(result))\n",
      "c:\\Users\\gunja\\anaconda3\\Lib\\site-packages\\sklearn\\metrics\\_classification.py:1531: UndefinedMetricWarning: Recall is ill-defined and being set to 0.0 in labels with no true samples. Use `zero_division` parameter to control this behavior.\n",
      "  _warn_prf(average, modifier, f\"{metric.capitalize()} is\", len(result))\n",
      "c:\\Users\\gunja\\anaconda3\\Lib\\site-packages\\sklearn\\metrics\\_classification.py:1531: UndefinedMetricWarning: Recall is ill-defined and being set to 0.0 in labels with no true samples. Use `zero_division` parameter to control this behavior.\n",
      "  _warn_prf(average, modifier, f\"{metric.capitalize()} is\", len(result))\n"
     ]
    }
   ],
   "source": [
    "print(classification_report(LLM_predicts_merge_roberta[\"roberta_score\"], LLM_predicts_merge_roberta['llm_sentiment']))"
   ]
  },
  {
   "cell_type": "code",
   "execution_count": 22,
   "id": "69d533ad",
   "metadata": {},
   "outputs": [
    {
     "name": "stdout",
     "output_type": "stream",
     "text": [
      "[[   0    0    0    0]\n",
      " [   1 8644  167  116]\n",
      " [   0  821  199  196]\n",
      " [   0  860  851 9699]]\n"
     ]
    }
   ],
   "source": [
    "print(confusion_matrix(LLM_predicts_merge_roberta[\"roberta_score\"], LLM_predicts_merge_roberta['llm_sentiment']))"
   ]
  },
  {
   "cell_type": "code",
   "execution_count": 23,
   "id": "e4f9a6f8",
   "metadata": {},
   "outputs": [
    {
     "data": {
      "image/png": "[encoded data removed]",
      "text/plain": [
       "<Figure size 640x480 with 2 Axes>"
      ]
     },
     "metadata": {},
     "output_type": "display_data"
    }
   ],
   "source": [
    "ConfusionMatrixDisplay.from_predictions(LLM_predicts_merge_roberta[\"roberta_score\"], LLM_predicts_merge_roberta['llm_sentiment'])#, display_labels=labels)\n",
    "plt.title('Confusion Matrix')\n",
    "plt.show()"
   ]
  },
  {
   "cell_type": "code",
   "execution_count": 4,
   "id": "ffd38a0d",
   "metadata": {},
   "outputs": [
    {
     "name": "stdout",
     "output_type": "stream",
     "text": [
      "              precision    recall  f1-score   support\n",
      "\n",
      "           1       0.84      0.97      0.90      8930\n",
      "           2       0.17      0.18      0.17      1216\n",
      "           3       0.97      0.85      0.91     11410\n",
      "\n",
      "    accuracy                           0.86     21556\n",
      "   macro avg       0.66      0.67      0.66     21556\n",
      "weighted avg       0.87      0.86      0.86     21556\n",
      "\n"
     ]
    },
    {
     "data": {
      "image/png": "[encoded data removed]",
      "text/plain": [
       "<Figure size 640x480 with 2 Axes>"
      ]
     },
     "metadata": {},
     "output_type": "display_data"
    }
   ],
   "source": [
    "LLM_temp0_1 = pd.read_json('llm_sentiment_temp0_1.json', lines=True)\n",
    "LLM_temp0_1['llm_sentiment'] = pd.to_numeric(LLM_temp0_1['llm_sentiment'], errors='coerce')\n",
    "LLM_temp0_1 = LLM_temp0_1.dropna(subset=[\"llm_sentiment\"])\n",
    "LLM_temp0_1 = LLM_temp0_1[LLM_temp0_1[\"llm_sentiment\"] >= 0]\n",
    "LLM_temp0_1_merge_roberta = pd.merge(LLM_temp0_1, ts.BI_df[[\"roberta_score\", \"date\", \"business_id\"]], on=[\"date\", \"business_id\"], how=\"inner\")\n",
    "print(classification_report(LLM_temp0_1_merge_roberta[\"roberta_score\"], LLM_temp0_1_merge_roberta['llm_sentiment']))\n",
    "ConfusionMatrixDisplay.from_predictions(LLM_temp0_1_merge_roberta[\"roberta_score\"], LLM_temp0_1_merge_roberta['llm_sentiment'])#, display_labels=labels)\n",
    "plt.title('Confusion Matrix')\n",
    "plt.show()"
   ]
  },
  {
   "cell_type": "code",
   "execution_count": 6,
   "id": "b61e0809",
   "metadata": {},
   "outputs": [],
   "source": [
    "LLM_temp0_1_merge_roberta.to_json('LLM_temp0_1_merge_roberta.json', orient='records', lines=True)"
   ]
  },
  {
   "cell_type": "code",
   "execution_count": 5,
   "id": "1af65cda",
   "metadata": {},
   "outputs": [
    {
     "name": "stdout",
     "output_type": "stream",
     "text": [
      "              precision    recall  f1-score   support\n",
      "\n",
      "           1       0.84      0.97      0.90      8928\n",
      "           2       0.17      0.18      0.18      1216\n",
      "           3       0.97      0.85      0.90     11407\n",
      "\n",
      "    accuracy                           0.86     21551\n",
      "   macro avg       0.66      0.67      0.66     21551\n",
      "weighted avg       0.87      0.86      0.86     21551\n",
      "\n"
     ]
    },
    {
     "data": {
      "image/png": "[encoded data removed]",
      "text/plain": [
       "<Figure size 640x480 with 2 Axes>"
      ]
     },
     "metadata": {},
     "output_type": "display_data"
    }
   ],
   "source": [
    "LLM_temp0_2 = pd.read_json('llm_sentiment_temp0_2.json', lines=True)\n",
    "LLM_temp0_2['llm_sentiment'] = pd.to_numeric(LLM_temp0_2['llm_sentiment'], errors='coerce')\n",
    "LLM_temp0_2 = LLM_temp0_2.dropna(subset=[\"llm_sentiment\"])\n",
    "LLM_temp0_2 = LLM_temp0_2[LLM_temp0_2[\"llm_sentiment\"] >= 0]\n",
    "LLM_temp0_2_merge_roberta = pd.merge(LLM_temp0_2, ts.BI_df[[\"roberta_score\", \"date\", \"business_id\"]], on=[\"date\", \"business_id\"], how=\"inner\")\n",
    "print(classification_report(LLM_temp0_2_merge_roberta[\"roberta_score\"], LLM_temp0_2_merge_roberta['llm_sentiment']))\n",
    "ConfusionMatrixDisplay.from_predictions(LLM_temp0_2_merge_roberta[\"roberta_score\"], LLM_temp0_2_merge_roberta['llm_sentiment'])#, display_labels=labels)\n",
    "plt.title('Confusion Matrix')\n",
    "plt.show()"
   ]
  }
 ],
 "metadata": {
  "kernelspec": {
   "display_name": "base",
   "language": "python",
   "name": "python3"
  },
  "language_info": {
   "codemirror_mode": {
    "name": "ipython",
    "version": 3
   },
   "file_extension": ".py",
   "mimetype": "text/x-python",
   "name": "python",
   "nbconvert_exporter": "python",
   "pygments_lexer": "ipython3",
   "version": "3.12.7"
  }
 },
 "nbformat": 4,
 "nbformat_minor": 5
}
