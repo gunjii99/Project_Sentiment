{
 "cells": [
  {
   "cell_type": "markdown",
   "id": "e7f9d602",
   "metadata": {},
   "source": [
    "Checking 2 anomalous llm_sentiment in llm_sentiment.jason "
   ]
  },
  {
   "cell_type": "code",
   "execution_count": 1,
   "id": "4a4edb9d",
   "metadata": {},
   "outputs": [],
   "source": [
    "import pandas as pd"
   ]
  },
  {
   "cell_type": "markdown",
   "id": "770d1706",
   "metadata": {},
   "source": [
    "Now import .jason file"
   ]
  },
  {
   "cell_type": "code",
   "execution_count": 4,
   "id": "d42ba935",
   "metadata": {},
   "outputs": [],
   "source": [
    "df = pd.read_json('./llm_sentiment.json', lines=True)"
   ]
  },
  {
   "cell_type": "markdown",
   "id": "bf565651",
   "metadata": {},
   "source": [
    "Check for the anomalous value"
   ]
  },
  {
   "cell_type": "code",
   "execution_count": 5,
   "id": "af92be62",
   "metadata": {},
   "outputs": [
    {
     "data": {
      "text/html": [
       "<div>\n",
       "<style scoped>\n",
       "    .dataframe tbody tr th:only-of-type {\n",
       "        vertical-align: middle;\n",
       "    }\n",
       "\n",
       "    .dataframe tbody tr th {\n",
       "        vertical-align: top;\n",
       "    }\n",
       "\n",
       "    .dataframe thead th {\n",
       "        text-align: right;\n",
       "    }\n",
       "</style>\n",
       "<table border=\"1\" class=\"dataframe\">\n",
       "  <thead>\n",
       "    <tr style=\"text-align: right;\">\n",
       "      <th></th>\n",
       "      <th>text</th>\n",
       "      <th>llm_sentiment</th>\n",
       "    </tr>\n",
       "  </thead>\n",
       "  <tbody>\n",
       "    <tr>\n",
       "      <th>77</th>\n",
       "      <td>This is the worst Starbucks location I have ev...</td>\n",
       "      <td>I have been</td>\n",
       "    </tr>\n",
       "    <tr>\n",
       "      <th>596</th>\n",
       "      <td>This Starbucks is a bit different from the oth...</td>\n",
       "      <td>I would recommend</td>\n",
       "    </tr>\n",
       "    <tr>\n",
       "      <th>892</th>\n",
       "      <td>This is the closest place to my office you can...</td>\n",
       "      <td>The staff is</td>\n",
       "    </tr>\n",
       "    <tr>\n",
       "      <th>1513</th>\n",
       "      <td>Wow. Have never been treated more rude trying ...</td>\n",
       "      <td>-1</td>\n",
       "    </tr>\n",
       "    <tr>\n",
       "      <th>3071</th>\n",
       "      <td>I'm happily working my way through the gift ca...</td>\n",
       "      <td>I'm not</td>\n",
       "    </tr>\n",
       "    <tr>\n",
       "      <th>5138</th>\n",
       "      <td>Not being a coffee drinker shouldn't disqualif...</td>\n",
       "      <td>I would recommend</td>\n",
       "    </tr>\n",
       "    <tr>\n",
       "      <th>5245</th>\n",
       "      <td>Parking can be a chore but this is your typica...</td>\n",
       "      <td>I'm sure</td>\n",
       "    </tr>\n",
       "    <tr>\n",
       "      <th>5408</th>\n",
       "      <td>Currently waiting for a lemonade and it's been...</td>\n",
       "      <td>but a lemon</td>\n",
       "    </tr>\n",
       "    <tr>\n",
       "      <th>5677</th>\n",
       "      <td>This is without a doubt the best local Starbuc...</td>\n",
       "      <td>The location is</td>\n",
       "    </tr>\n",
       "    <tr>\n",
       "      <th>5714</th>\n",
       "      <td>Sure you've been to Starbucks - you know what ...</td>\n",
       "      <td>c) the</td>\n",
       "    </tr>\n",
       "    <tr>\n",
       "      <th>6803</th>\n",
       "      <td>This particular Starbucks received from myself...</td>\n",
       "      <td>The barista</td>\n",
       "    </tr>\n",
       "    <tr>\n",
       "      <th>7782</th>\n",
       "      <td>I have been waiting several years for a Starbu...</td>\n",
       "      <td>I am very</td>\n",
       "    </tr>\n",
       "    <tr>\n",
       "      <th>8984</th>\n",
       "      <td>This Starbucks is located in the Opryland hote...</td>\n",
       "      <td>- nice view</td>\n",
       "    </tr>\n",
       "    <tr>\n",
       "      <th>10115</th>\n",
       "      <td>So I come to this Starbucks often because I of...</td>\n",
       "      <td>I will not</td>\n",
       "    </tr>\n",
       "    <tr>\n",
       "      <th>12464</th>\n",
       "      <td>This is the worst Starbucks for several reason...</td>\n",
       "      <td>2.</td>\n",
       "    </tr>\n",
       "    <tr>\n",
       "      <th>13757</th>\n",
       "      <td>Worst Starbucks in the country. The general ma...</td>\n",
       "      <td>worst.</td>\n",
       "    </tr>\n",
       "    <tr>\n",
       "      <th>13788</th>\n",
       "      <td>1:30 Friday Feb 8\\nThe worst service ever in a...</td>\n",
       "      <td>I will not</td>\n",
       "    </tr>\n",
       "    <tr>\n",
       "      <th>13828</th>\n",
       "      <td>This morning I ordered the strawberry acai and...</td>\n",
       "      <td>was so rude</td>\n",
       "    </tr>\n",
       "    <tr>\n",
       "      <th>13848</th>\n",
       "      <td>Settle down everybody.   It's a Starbucks.   W...</td>\n",
       "      <td>I'm not</td>\n",
       "    </tr>\n",
       "    <tr>\n",
       "      <th>15977</th>\n",
       "      <td>An open letter to the Starbucks in KOP:\\n\\nDea...</td>\n",
       "      <td>P.S.</td>\n",
       "    </tr>\n",
       "    <tr>\n",
       "      <th>16162</th>\n",
       "      <td>I like this Starbucks even though I always for...</td>\n",
       "      <td>The staff is</td>\n",
       "    </tr>\n",
       "    <tr>\n",
       "      <th>16601</th>\n",
       "      <td>Worst Starbucks. 4 on staff with three meander...</td>\n",
       "      <td>I will not</td>\n",
       "    </tr>\n",
       "    <tr>\n",
       "      <th>18558</th>\n",
       "      <td>Maple is better than Magazine.  Metarie is bet...</td>\n",
       "      <td>I am a</td>\n",
       "    </tr>\n",
       "  </tbody>\n",
       "</table>\n",
       "</div>"
      ],
      "text/plain": [
       "                                                    text      llm_sentiment\n",
       "77     This is the worst Starbucks location I have ev...        I have been\n",
       "596    This Starbucks is a bit different from the oth...  I would recommend\n",
       "892    This is the closest place to my office you can...       The staff is\n",
       "1513   Wow. Have never been treated more rude trying ...                 -1\n",
       "3071   I'm happily working my way through the gift ca...            I'm not\n",
       "5138   Not being a coffee drinker shouldn't disqualif...  I would recommend\n",
       "5245   Parking can be a chore but this is your typica...           I'm sure\n",
       "5408   Currently waiting for a lemonade and it's been...        but a lemon\n",
       "5677   This is without a doubt the best local Starbuc...    The location is\n",
       "5714   Sure you've been to Starbucks - you know what ...             c) the\n",
       "6803   This particular Starbucks received from myself...        The barista\n",
       "7782   I have been waiting several years for a Starbu...          I am very\n",
       "8984   This Starbucks is located in the Opryland hote...        - nice view\n",
       "10115  So I come to this Starbucks often because I of...         I will not\n",
       "12464  This is the worst Starbucks for several reason...                 2.\n",
       "13757  Worst Starbucks in the country. The general ma...             worst.\n",
       "13788  1:30 Friday Feb 8\\nThe worst service ever in a...         I will not\n",
       "13828  This morning I ordered the strawberry acai and...        was so rude\n",
       "13848  Settle down everybody.   It's a Starbucks.   W...            I'm not\n",
       "15977  An open letter to the Starbucks in KOP:\\n\\nDea...               P.S.\n",
       "16162  I like this Starbucks even though I always for...       The staff is\n",
       "16601  Worst Starbucks. 4 on staff with three meander...         I will not\n",
       "18558  Maple is better than Magazine.  Metarie is bet...             I am a"
      ]
     },
     "execution_count": 5,
     "metadata": {},
     "output_type": "execute_result"
    }
   ],
   "source": [
    "# Ensure llm_sentiment is treated as string\n",
    "df['llm_sentiment'] = df['llm_sentiment'].astype(str).str.strip()\n",
    "\n",
    "# Filter anomalies (values not equal to '1', '2', or '3')\n",
    "anomalies = df[~df['llm_sentiment'].isin(['1', '2', '3'])]\n",
    "\n",
    "# Display anomalies\n",
    "anomalies[['text', 'llm_sentiment']]"
   ]
  },
  {
   "cell_type": "markdown",
   "id": "8f7e78b2",
   "metadata": {},
   "source": [
    "Count Anomalies"
   ]
  },
  {
   "cell_type": "code",
   "execution_count": 6,
   "id": "34dc7b9e",
   "metadata": {},
   "outputs": [
    {
     "name": "stdout",
     "output_type": "stream",
     "text": [
      "Number of anomalies: 23\n"
     ]
    }
   ],
   "source": [
    "# Count number of anomalies\n",
    "anomaly_count = len(anomalies)\n",
    "\n",
    "# Display count\n",
    "print(f\"Number of anomalies: {anomaly_count}\")"
   ]
  }
 ],
 "metadata": {
  "kernelspec": {
   "display_name": "base",
   "language": "python",
   "name": "python3"
  },
  "language_info": {
   "codemirror_mode": {
    "name": "ipython",
    "version": 3
   },
   "file_extension": ".py",
   "mimetype": "text/x-python",
   "name": "python",
   "nbconvert_exporter": "python",
   "pygments_lexer": "ipython3",
   "version": "3.12.7"
  }
 },
 "nbformat": 4,
 "nbformat_minor": 5
}
