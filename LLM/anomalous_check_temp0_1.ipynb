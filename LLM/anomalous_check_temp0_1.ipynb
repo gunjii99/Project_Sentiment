{
 "cells": [
  {
   "cell_type": "markdown",
   "id": "e7f9d602",
   "metadata": {},
   "source": [
    "Checking 2 anomalous llm_sentiment in llm_sentiment.jason "
   ]
  },
  {
   "cell_type": "code",
   "execution_count": 1,
   "id": "4a4edb9d",
   "metadata": {},
   "outputs": [],
   "source": [
    "import pandas as pd"
   ]
  },
  {
   "cell_type": "markdown",
   "id": "770d1706",
   "metadata": {},
   "source": [
    "Now import .jason file"
   ]
  },
  {
   "cell_type": "code",
   "execution_count": 2,
   "id": "d42ba935",
   "metadata": {},
   "outputs": [],
   "source": [
    "df = pd.read_json('llm_sentiment_temp0_2.json', lines=True)"
   ]
  },
  {
   "cell_type": "markdown",
   "id": "bf565651",
   "metadata": {},
   "source": [
    "Check for the anomalous value"
   ]
  },
  {
   "cell_type": "code",
   "execution_count": 3,
   "id": "af92be62",
   "metadata": {},
   "outputs": [
    {
     "data": {
      "text/html": [
       "<div>\n",
       "<style scoped>\n",
       "    .dataframe tbody tr th:only-of-type {\n",
       "        vertical-align: middle;\n",
       "    }\n",
       "\n",
       "    .dataframe tbody tr th {\n",
       "        vertical-align: top;\n",
       "    }\n",
       "\n",
       "    .dataframe thead th {\n",
       "        text-align: right;\n",
       "    }\n",
       "</style>\n",
       "<table border=\"1\" class=\"dataframe\">\n",
       "  <thead>\n",
       "    <tr style=\"text-align: right;\">\n",
       "      <th></th>\n",
       "      <th>text</th>\n",
       "      <th>llm_sentiment</th>\n",
       "    </tr>\n",
       "  </thead>\n",
       "  <tbody>\n",
       "    <tr>\n",
       "      <th>77</th>\n",
       "      <td>This is the worst Starbucks location I have ev...</td>\n",
       "      <td>I am</td>\n",
       "    </tr>\n",
       "    <tr>\n",
       "      <th>596</th>\n",
       "      <td>This Starbucks is a bit different from the oth...</td>\n",
       "      <td>The food</td>\n",
       "    </tr>\n",
       "    <tr>\n",
       "      <th>892</th>\n",
       "      <td>This is the closest place to my office you can...</td>\n",
       "      <td>The staff</td>\n",
       "    </tr>\n",
       "    <tr>\n",
       "      <th>2085</th>\n",
       "      <td>I am not that active on this site, however I d...</td>\n",
       "      <td>We will</td>\n",
       "    </tr>\n",
       "    <tr>\n",
       "      <th>3071</th>\n",
       "      <td>I'm happily working my way through the gift ca...</td>\n",
       "      <td>The only</td>\n",
       "    </tr>\n",
       "    <tr>\n",
       "      <th>5138</th>\n",
       "      <td>Not being a coffee drinker shouldn't disqualif...</td>\n",
       "      <td>I would</td>\n",
       "    </tr>\n",
       "    <tr>\n",
       "      <th>5408</th>\n",
       "      <td>Currently waiting for a lemonade and it's been...</td>\n",
       "      <td>but this</td>\n",
       "    </tr>\n",
       "    <tr>\n",
       "      <th>5677</th>\n",
       "      <td>This is without a doubt the best local Starbuc...</td>\n",
       "      <td>The atmosphere</td>\n",
       "    </tr>\n",
       "    <tr>\n",
       "      <th>5714</th>\n",
       "      <td>Sure you've been to Starbucks - you know what ...</td>\n",
       "      <td>c)</td>\n",
       "    </tr>\n",
       "    <tr>\n",
       "      <th>6349</th>\n",
       "      <td>This is without a doubt the best local Starbuc...</td>\n",
       "      <td>The only</td>\n",
       "    </tr>\n",
       "    <tr>\n",
       "      <th>6563</th>\n",
       "      <td>I go to Starbucks all the time always ask my d...</td>\n",
       "      <td>is amazing</td>\n",
       "    </tr>\n",
       "    <tr>\n",
       "      <th>6803</th>\n",
       "      <td>This particular Starbucks received from myself...</td>\n",
       "      <td>The staff</td>\n",
       "    </tr>\n",
       "    <tr>\n",
       "      <th>7782</th>\n",
       "      <td>I have been waiting several years for a Starbu...</td>\n",
       "      <td>I have</td>\n",
       "    </tr>\n",
       "    <tr>\n",
       "      <th>8170</th>\n",
       "      <td>This is my local Star ucks and I'm happy to re...</td>\n",
       "      <td>The staff</td>\n",
       "    </tr>\n",
       "    <tr>\n",
       "      <th>8984</th>\n",
       "      <td>This Starbucks is located in the Opryland hote...</td>\n",
       "      <td>- great</td>\n",
       "    </tr>\n",
       "    <tr>\n",
       "      <th>10115</th>\n",
       "      <td>So I come to this Starbucks often because I of...</td>\n",
       "      <td>I will</td>\n",
       "    </tr>\n",
       "    <tr>\n",
       "      <th>13757</th>\n",
       "      <td>Worst Starbucks in the country. The general ma...</td>\n",
       "      <td>worst.</td>\n",
       "    </tr>\n",
       "    <tr>\n",
       "      <th>13788</th>\n",
       "      <td>1:30 Friday Feb 8\\nThe worst service ever in a...</td>\n",
       "      <td>I will</td>\n",
       "    </tr>\n",
       "    <tr>\n",
       "      <th>13828</th>\n",
       "      <td>This morning I ordered the strawberry acai and...</td>\n",
       "      <td>was really</td>\n",
       "    </tr>\n",
       "    <tr>\n",
       "      <th>13848</th>\n",
       "      <td>Settle down everybody.   It's a Starbucks.   W...</td>\n",
       "      <td>The food</td>\n",
       "    </tr>\n",
       "    <tr>\n",
       "      <th>15977</th>\n",
       "      <td>An open letter to the Starbucks in KOP:\\n\\nDea...</td>\n",
       "      <td>PS:</td>\n",
       "    </tr>\n",
       "    <tr>\n",
       "      <th>16162</th>\n",
       "      <td>I like this Starbucks even though I always for...</td>\n",
       "      <td>The staff</td>\n",
       "    </tr>\n",
       "    <tr>\n",
       "      <th>17578</th>\n",
       "      <td>Yeah, it's another Starbucks.  But man you can...</td>\n",
       "      <td>I'm</td>\n",
       "    </tr>\n",
       "    <tr>\n",
       "      <th>18558</th>\n",
       "      <td>Maple is better than Magazine.  Metarie is bet...</td>\n",
       "      <td>I am</td>\n",
       "    </tr>\n",
       "  </tbody>\n",
       "</table>\n",
       "</div>"
      ],
      "text/plain": [
       "                                                    text   llm_sentiment\n",
       "77     This is the worst Starbucks location I have ev...            I am\n",
       "596    This Starbucks is a bit different from the oth...        The food\n",
       "892    This is the closest place to my office you can...       The staff\n",
       "2085   I am not that active on this site, however I d...         We will\n",
       "3071   I'm happily working my way through the gift ca...        The only\n",
       "5138   Not being a coffee drinker shouldn't disqualif...         I would\n",
       "5408   Currently waiting for a lemonade and it's been...        but this\n",
       "5677   This is without a doubt the best local Starbuc...  The atmosphere\n",
       "5714   Sure you've been to Starbucks - you know what ...              c)\n",
       "6349   This is without a doubt the best local Starbuc...        The only\n",
       "6563   I go to Starbucks all the time always ask my d...      is amazing\n",
       "6803   This particular Starbucks received from myself...       The staff\n",
       "7782   I have been waiting several years for a Starbu...          I have\n",
       "8170   This is my local Star ucks and I'm happy to re...       The staff\n",
       "8984   This Starbucks is located in the Opryland hote...         - great\n",
       "10115  So I come to this Starbucks often because I of...          I will\n",
       "13757  Worst Starbucks in the country. The general ma...          worst.\n",
       "13788  1:30 Friday Feb 8\\nThe worst service ever in a...          I will\n",
       "13828  This morning I ordered the strawberry acai and...      was really\n",
       "13848  Settle down everybody.   It's a Starbucks.   W...        The food\n",
       "15977  An open letter to the Starbucks in KOP:\\n\\nDea...             PS:\n",
       "16162  I like this Starbucks even though I always for...       The staff\n",
       "17578  Yeah, it's another Starbucks.  But man you can...             I'm\n",
       "18558  Maple is better than Magazine.  Metarie is bet...            I am"
      ]
     },
     "execution_count": 3,
     "metadata": {},
     "output_type": "execute_result"
    }
   ],
   "source": [
    "# Ensure llm_sentiment is treated as string\n",
    "df['llm_sentiment'] = df['llm_sentiment'].astype(str).str.strip()\n",
    "\n",
    "# Filter anomalies (values not equal to '1', '2', or '3')\n",
    "anomalies = df[~df['llm_sentiment'].isin(['1', '2', '3'])]\n",
    "\n",
    "# Display anomalies\n",
    "anomalies[['text', 'llm_sentiment']]"
   ]
  },
  {
   "cell_type": "markdown",
   "id": "8f7e78b2",
   "metadata": {},
   "source": [
    "Count Anomalies"
   ]
  },
  {
   "cell_type": "code",
   "execution_count": 4,
   "id": "34dc7b9e",
   "metadata": {},
   "outputs": [
    {
     "name": "stdout",
     "output_type": "stream",
     "text": [
      "Number of anomalies: 24\n"
     ]
    }
   ],
   "source": [
    "# Count number of anomalies\n",
    "anomaly_count = len(anomalies)\n",
    "\n",
    "# Display count\n",
    "print(f\"Number of anomalies: {anomaly_count}\")"
   ]
  }
 ],
 "metadata": {
  "kernelspec": {
   "display_name": "base",
   "language": "python",
   "name": "python3"
  },
  "language_info": {
   "codemirror_mode": {
    "name": "ipython",
    "version": 3
   },
   "file_extension": ".py",
   "mimetype": "text/x-python",
   "name": "python",
   "nbconvert_exporter": "python",
   "pygments_lexer": "ipython3",
   "version": "3.12.7"
  }
 },
 "nbformat": 4,
 "nbformat_minor": 5
}
