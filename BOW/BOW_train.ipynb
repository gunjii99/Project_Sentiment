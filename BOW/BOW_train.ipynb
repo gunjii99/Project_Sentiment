{
 "cells": [
  {
   "cell_type": "code",
   "execution_count": 1,
   "id": "674dce3d",
   "metadata": {},
   "outputs": [
    {
     "name": "stdout",
     "output_type": "stream",
     "text": [
      "Training data shape: (452068, 3)\n",
      "Test data shape: (113018, 3)\n",
      "Training samples: 361654, Validation samples: 90414, Test samples: 113018\n"
     ]
    }
   ],
   "source": [
    "#this script trains bag of words model and saves it for later use\n",
    "import nbimporter\n",
    "import sys\n",
    "import import_ipynb\n",
    "sys.path.append('../')\n",
    "from Preprocessing import Train_Test_split as ts  \n",
    "from sklearn.feature_extraction.text import TfidfVectorizer\n",
    "from sklearn.linear_model import LogisticRegression\n",
    "from sklearn.metrics import classification_report\n",
    "import json\n",
    "import joblib"
   ]
  },
  {
   "cell_type": "code",
   "execution_count": 2,
   "id": "63138c3c",
   "metadata": {},
   "outputs": [
    {
     "name": "stdout",
     "output_type": "stream",
     "text": [
      "TF-IDF vectorization completed.\n",
      "Shape of training data: (361654, 10000)\n",
      "Shape of validation data: (90414, 10000)\n",
      "Shape of test data: (113018, 10000)\n"
     ]
    }
   ],
   "source": [
    "#BOW Vectorization TF-IDF\n",
    "vectorizer = TfidfVectorizer(\n",
    "    lowercase=True,\n",
    "    stop_words='english',\n",
    "    max_features=10000,\n",
    "    ngram_range=(1, 3)  # unigrams, bigrams, trigrams\n",
    ")\n",
    "\n",
    "# Fit and transform training data\n",
    "X_train_vec = vectorizer.fit_transform(ts.X_train)\n",
    "X_val_vec = vectorizer.transform(ts.X_val)\n",
    "X_test_vec = vectorizer.transform(ts.X_test)\n",
    "\n",
    "print(\"TF-IDF vectorization completed.\")\n",
    "print(f\"Shape of training data: {X_train_vec.shape}\")\n",
    "print(f\"Shape of validation data: {X_val_vec.shape}\")\n",
    "print(f\"Shape of test data: {X_test_vec.shape}\")"
   ]
  },
  {
   "cell_type": "code",
   "execution_count": 3,
   "id": "d6537732",
   "metadata": {},
   "outputs": [
    {
     "name": "stdout",
     "output_type": "stream",
     "text": [
      "Model training completed.\n"
     ]
    }
   ],
   "source": [
    "#Train Logistic Regression Model\n",
    "model = LogisticRegression(\n",
    "    max_iter=1000,\n",
    "    C=1.1,\n",
    "    random_state=42\n",
    ")\n",
    "model.fit(X_train_vec, ts.y_train)\n",
    "print(\"Model training completed.\")"
   ]
  },
  {
   "cell_type": "code",
   "execution_count": 4,
   "id": "95d630a2",
   "metadata": {},
   "outputs": [],
   "source": [
    "# Training set predictions\n",
    "y_train_pred = model.predict(X_train_vec)\n",
    "\n",
    "# Validation set predictions\n",
    "y_val_pred = model.predict(X_val_vec)\n",
    "\n",
    "# Test set predictions\n",
    "y_test_pred = model.predict(X_test_vec)"
   ]
  },
  {
   "cell_type": "code",
   "execution_count": 5,
   "id": "2ed1ec57",
   "metadata": {},
   "outputs": [
    {
     "data": {
      "text/plain": [
       "array([1, 3, 3, ..., 3, 1, 3], dtype=int64)"
      ]
     },
     "execution_count": 5,
     "metadata": {},
     "output_type": "execute_result"
    }
   ],
   "source": [
    "y_test_pred"
   ]
  },
  {
   "cell_type": "code",
   "execution_count": 6,
   "id": "f26f5220",
   "metadata": {},
   "outputs": [
    {
     "name": "stdout",
     "output_type": "stream",
     "text": [
      "\n",
      "Performance on the training set:\n",
      "              precision    recall  f1-score   support\n",
      "\n",
      "           1       0.88      0.94      0.91    148525\n",
      "           2       0.62      0.09      0.16     18473\n",
      "           3       0.92      0.95      0.94    194656\n",
      "\n",
      "    accuracy                           0.90    361654\n",
      "   macro avg       0.81      0.66      0.67    361654\n",
      "weighted avg       0.89      0.90      0.89    361654\n",
      "\n",
      "\n",
      "Performance on the validation set:\n",
      "              precision    recall  f1-score   support\n",
      "\n",
      "           1       0.88      0.93      0.90     37131\n",
      "           2       0.47      0.07      0.12      4619\n",
      "           3       0.92      0.95      0.93     48664\n",
      "\n",
      "    accuracy                           0.89     90414\n",
      "   macro avg       0.75      0.65      0.65     90414\n",
      "weighted avg       0.88      0.89      0.88     90414\n",
      "\n",
      "\n",
      "Performance on the test set:\n",
      "              precision    recall  f1-score   support\n",
      "\n",
      "           1       0.88      0.93      0.90     46415\n",
      "           2       0.47      0.07      0.13      5773\n",
      "           3       0.92      0.95      0.93     60830\n",
      "\n",
      "    accuracy                           0.90    113018\n",
      "   macro avg       0.76      0.65      0.65    113018\n",
      "weighted avg       0.88      0.90      0.88    113018\n",
      "\n"
     ]
    }
   ],
   "source": [
    "#Evaluate the model\n",
    "print(\"\\nPerformance on the training set:\")\n",
    "print(classification_report(ts.y_train, y_train_pred))\n",
    "\n",
    "print(\"\\nPerformance on the validation set:\")\n",
    "print(classification_report(ts.y_val, y_val_pred))\n",
    "\n",
    "print(\"\\nPerformance on the test set:\")\n",
    "print(classification_report(ts.y_test, y_test_pred))"
   ]
  },
  {
   "cell_type": "code",
   "execution_count": 7,
   "id": "935d491b",
   "metadata": {},
   "outputs": [
    {
     "data": {
      "text/plain": [
       "['logreg_bow_model.joblib']"
      ]
     },
     "execution_count": 7,
     "metadata": {},
     "output_type": "execute_result"
    }
   ],
   "source": [
    "#save the model\n",
    "joblib.dump(vectorizer, 'tfidf_vectorizer.joblib')\n",
    "joblib.dump(model, 'logreg_bow_model.joblib')"
   ]
  }
 ],
 "metadata": {
  "kernelspec": {
   "display_name": "base",
   "language": "python",
   "name": "python3"
  },
  "language_info": {
   "codemirror_mode": {
    "name": "ipython",
    "version": 3
   },
   "file_extension": ".py",
   "mimetype": "text/x-python",
   "name": "python",
   "nbconvert_exporter": "python",
   "pygments_lexer": "ipython3",
   "version": "3.12.7"
  }
 },
 "nbformat": 4,
 "nbformat_minor": 5
}
