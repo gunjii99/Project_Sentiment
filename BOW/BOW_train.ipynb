{
 "cells": [
  {
   "cell_type": "code",
   "execution_count": 2,
   "id": "674dce3d",
   "metadata": {},
   "outputs": [
    {
     "name": "stdout",
     "output_type": "stream",
     "text": [
      "Training data shape: (452068, 3)\n",
      "Test data shape: (113018, 3)\n",
      "Training samples: 361654, Validation samples: 90414, Test samples: 113018\n"
     ]
    }
   ],
   "source": [
    "#this script trains bag of words model and saves it for later use\n",
    "import nbimporter\n",
    "import sys\n",
    "import import_ipynb\n",
    "sys.path.append('../')\n",
    "from Preprocessing import Train_Test_split as ts  \n",
    "from sklearn.feature_extraction.text import TfidfVectorizer\n",
    "from sklearn.linear_model import LogisticRegression\n",
    "from sklearn.metrics import classification_report\n",
    "import json\n",
    "import joblib"
   ]
  },
  {
   "cell_type": "code",
   "execution_count": null,
   "id": "63138c3c",
   "metadata": {},
   "outputs": [],
   "source": [
    "#BOW Vectorization TF-IDF\n",
    "vectorizer = TfidfVectorizer(\n",
    "    lowercase=True,\n",
    "    stop_words='english',\n",
    "    max_features=10000,\n",
    "    ngram_range=(1, 3)  # unigrams, bigrams, trigrams\n",
    ")\n",
    "\n",
    "# Fit and transform training data\n",
    "X_train_vec = vectorizer.fit_transform(ts.X_train)\n",
    "X_val_vec = vectorizer.transform(ts.X_val)\n",
    "X_test_vec = vectorizer.transform(ts.X_test)\n",
    "\n",
    "print(\"TF-IDF vectorization completed.\")\n",
    "print(f\"Shape of training data: {X_train_vec.shape}\")\n",
    "print(f\"Shape of validation data: {X_val_vec.shape}\")\n",
    "print(f\"Shape of test data: {X_test_vec.shape}\")"
   ]
  },
  {
   "cell_type": "code",
   "execution_count": null,
   "id": "d6537732",
   "metadata": {},
   "outputs": [],
   "source": [
    "#Train Logistic Regression Model\n",
    "model = LogisticRegression(\n",
    "    max_iter=1000,\n",
    "    C=1.1,\n",
    "    random_state=42\n",
    ")\n",
    "model.fit(X_train_vec, ts.y_train)\n",
    "print(\"Model training completed.\")"
   ]
  },
  {
   "cell_type": "code",
   "execution_count": null,
   "id": "95d630a2",
   "metadata": {},
   "outputs": [],
   "source": [
    "# Training set predictions\n",
    "y_train_pred = model.predict(X_train_vec)\n",
    "\n",
    "# Validation set predictions\n",
    "y_val_pred = model.predict(X_val_vec)\n",
    "\n",
    "# Test set predictions\n",
    "y_test_pred = model.predict(X_test_vec)"
   ]
  },
  {
   "cell_type": "code",
   "execution_count": null,
   "id": "2ed1ec57",
   "metadata": {},
   "outputs": [],
   "source": [
    "y_test_pred"
   ]
  },
  {
   "cell_type": "code",
   "execution_count": null,
   "id": "f26f5220",
   "metadata": {},
   "outputs": [],
   "source": [
    "#Evaluate the model\n",
    "print(\"\\nPerformance on the training set:\")\n",
    "print(classification_report(ts.y_train, y_train_pred))\n",
    "\n",
    "print(\"\\nPerformance on the validation set:\")\n",
    "print(classification_report(ts.y_val, y_val_pred))\n",
    "\n",
    "print(\"\\nPerformance on the test set:\")\n",
    "print(classification_report(ts.y_test, y_test_pred))"
   ]
  },
  {
   "cell_type": "code",
   "execution_count": null,
   "id": "935d491b",
   "metadata": {},
   "outputs": [],
   "source": [
    "#save the model\n",
    "joblib.dump(vectorizer, 'tfidf_vectorizer.joblib')\n",
    "joblib.dump(model, 'logreg_bow_model.joblib')"
   ]
  }
 ],
 "metadata": {
  "kernelspec": {
   "display_name": "base",
   "language": "python",
   "name": "python3"
  },
  "language_info": {
   "codemirror_mode": {
    "name": "ipython",
    "version": 3
   },
   "file_extension": ".py",
   "mimetype": "text/x-python",
   "name": "python",
   "nbconvert_exporter": "python",
   "pygments_lexer": "ipython3",
   "version": "3.12.7"
  }
 },
 "nbformat": 4,
 "nbformat_minor": 5
}
